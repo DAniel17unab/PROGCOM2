{
  "nbformat": 4,
  "nbformat_minor": 0,
  "metadata": {
    "colab": {
      "provenance": []
    },
    "kernelspec": {
      "name": "python3",
      "display_name": "Python 3"
    },
    "language_info": {
      "name": "python"
    }
  },
  "cells": [
    {
      "cell_type": "markdown",
      "source": [
        "***#funcionesssssss***\n"
      ],
      "metadata": {
        "id": "7ZvbuUmP0DQl"
      }
    },
    {
      "cell_type": "code",
      "source": [
        "def nombre(parametros o argumentos):\n",
        "  lo que va dentro de la función"
      ],
      "metadata": {
        "id": "7GI6wY8t0JNV"
      },
      "execution_count": null,
      "outputs": []
    },
    {
      "cell_type": "markdown",
      "source": [
        "Tipos de funciones\n",
        "\n",
        "1. sin parametros, sin retorno\n",
        "                def manuel():\n",
        "                 print(\"tome su cinco\")\n",
        "2. sin parametros con retornos\n",
        "           def manuel():\n",
        "            print(\"tome su cinco\")\n",
        "             a=5\n",
        "               return a\n",
        "\n",
        "3. con parametros, sin retorno\n",
        "       def manuel(a,\"b\", x=3):\n",
        "        print(\"tome su cinco\")\n",
        "            a=5\n",
        "\n",
        "4. con parametros, con retorno \n",
        "\n",
        "        def holitas(a,\"b\", x=false):\n",
        "        int a\n",
        "        b= string\n",
        "        x=bolean\n",
        "        print(\"hola carepito\") \n",
        "        a=5\n",
        "        \n",
        "        return a\n",
        " \n",
        "  "
      ],
      "metadata": {
        "id": "11FG0Czm0-D1"
      }
    },
    {
      "cell_type": "code",
      "source": [
        "def saludennnnn():\n",
        "  print(\"saluden care pitos\")\n",
        "  print(\"es de pros\")"
      ],
      "metadata": {
        "id": "8nUNzc2T3zGf"
      },
      "execution_count": null,
      "outputs": []
    },
    {
      "cell_type": "code",
      "source": [
        "saludennnnn()"
      ],
      "metadata": {
        "colab": {
          "base_uri": "https://localhost:8080/"
        },
        "id": "hVWMftl64r66",
        "outputId": "0aa0ab17-73b7-4135-eff5-8cb4e8928270"
      },
      "execution_count": null,
      "outputs": [
        {
          "output_type": "stream",
          "name": "stdout",
          "text": [
            "saluden care pitos\n",
            "es de pros\n"
          ]
        }
      ]
    },
    {
      "cell_type": "code",
      "source": [
        "a=int(input(\"ingrese un número \"))\n",
        "b=int(input(\"ingrese un número \"))\n",
        "c=int(input(\"ingrese un número \"))\n",
        "\n",
        "if a !=b and a!=c and b!=c:\n",
        "  if a>b and a>c:\n",
        "    if b>c:\n",
        "      print(a,\"es el mayor\")\n",
        "      print(b,\"es el mayor medio\")\n",
        "      print(c,\"es el menor\")\n",
        "    else:\n",
        "      print(a,\"es el mayor\")\n",
        "      print(c,\"es el mayor medio\")\n",
        "      print(b,\"es el menor\")\n",
        "  elif b>a and b>c:\n",
        "    if a>c: \n",
        "      print(b,\"es el mayor\")\n",
        "      print(a,\"es el mayor medio\")\n",
        "      print(c,\"es el menor\")\n",
        "    else:\n",
        "      print(b,\"es el mayor\")\n",
        "      print(c,\"es el mayor medio\")\n",
        "      print(a,\"es el menor\")\n",
        "  if c>a and c>b:\n",
        "    if a>b:\n",
        "      print(c,\"es el mayor\")\n",
        "      print(a,\"es el mayor medio\")\n",
        "      print(b,\"es el menor\")\n",
        "    else:\n",
        "      print(c,\"es el mayor\")\n",
        "      print(b,\"es el mayor medio\")\n",
        "      print(a,\"es el menor\")\n",
        "else:\n",
        "  print(\"no se puede hacer el cálculo\")"
      ],
      "metadata": {
        "colab": {
          "base_uri": "https://localhost:8080/"
        },
        "id": "LQD37x4X5Haw",
        "outputId": "b8a4bca4-f57e-455a-e6b1-44ad1db1644d"
      },
      "execution_count": null,
      "outputs": [
        {
          "output_type": "stream",
          "name": "stdout",
          "text": [
            "ingrese un número2\n",
            "ingrese un número5\n",
            "ingrese un número6\n",
            "6 es el mayor\n",
            "5 es el mayor medio\n",
            "2 es el menor\n"
          ]
        }
      ]
    },
    {
      "cell_type": "code",
      "source": [
        "def imprimir(a,b,c):\n",
        "  print(a,\"es el mayor\")\n",
        "  print(b,\"es el medio\")\n",
        "  print(c,\"es el menor\")\n"
      ],
      "metadata": {
        "id": "n8wnSq9Q7kLb"
      },
      "execution_count": null,
      "outputs": []
    },
    {
      "cell_type": "code",
      "source": [
        "def comparar (a,b,c):\n",
        "  if a !=b and a!=c and b!=c:\n",
        "   if a>b and a>c:\n",
        "    if b>c:\n",
        "            imprimir(a,b,c)\n",
        "    else:\n",
        "      imprimir(a,c,b)\n",
        "  elif b>a and b>c:\n",
        "    if a>c: \n",
        "      imprimir(b,a,c)\n",
        "    else:\n",
        "      imprimir(b,c,a)\n",
        "  if c>a and c>b:\n",
        "    if a>b:\n",
        "      imprimir(c,a,b)\n",
        "    else:\n",
        "      imprimir(c,a,b)\n",
        "  else:\n",
        "   print(\"no se puede hacer el cálculo\")"
      ],
      "metadata": {
        "id": "P4ZYuPv7BGsZ"
      },
      "execution_count": null,
      "outputs": []
    },
    {
      "cell_type": "code",
      "source": [
        "a=int(input(\"ingrese un número \"))\n",
        "b=int(input(\"ingrese un número \"))\n",
        "c=int(input(\"ingrese un número \"))\n",
        "\n",
        "\n",
        "comparar(c,b,a)"
      ],
      "metadata": {
        "colab": {
          "base_uri": "https://localhost:8080/"
        },
        "id": "n75sAqbMBxrp",
        "outputId": "b5eb3e79-c6c8-47bc-dd54-8674752a82ed"
      },
      "execution_count": null,
      "outputs": [
        {
          "output_type": "stream",
          "name": "stdout",
          "text": [
            "ingrese un número 1\n",
            "ingrese un número 2\n",
            "ingrese un número 3\n",
            "3 es el mayor\n",
            "2 es el medio\n",
            "1 es el menor\n",
            "no se puede hacer el cálculo\n"
          ]
        }
      ]
    },
    {
      "cell_type": "code",
      "source": [
        "a=int(input(\"ingrese un número \"))\n",
        "b=int(input(\"ingrese un número \"))\n",
        "c=int(input(\"ingrese un número \"))\n"
      ],
      "metadata": {
        "colab": {
          "base_uri": "https://localhost:8080/"
        },
        "id": "AYk4tLCx9IEP",
        "outputId": "29a3406d-778e-4afa-a141-c8bd934e85ed"
      },
      "execution_count": null,
      "outputs": [
        {
          "output_type": "stream",
          "name": "stdout",
          "text": [
            "ingrese un número 9\n",
            "ingrese un número 4\n",
            "ingrese un número 2\n",
            "9 es el mayor\n",
            "4 es el mayor medio\n",
            "2 es el menor\n"
          ]
        }
      ]
    },
    {
      "cell_type": "code",
      "source": [
        "def constante(letra):\n",
        "  if letra in(\"a\",\"e\",\"i\",\"o\",\"u\"):\n",
        "    return \"vocal\"\n",
        "  elif letra in (\"y\"):\n",
        "    return \"vocal/consonante\"\n",
        "  else:\n",
        "    return \"consonante\"\n",
        "\n",
        "l=input(\"escribe una letra cualquiera: \")\n",
        "print(constante(l))"
      ],
      "metadata": {
        "colab": {
          "base_uri": "https://localhost:8080/"
        },
        "id": "v56DFJjYFRRG",
        "outputId": "9bf9abe1-6bff-45d2-8671-354bcb0b4f75"
      },
      "execution_count": null,
      "outputs": [
        {
          "output_type": "stream",
          "name": "stdout",
          "text": [
            "escribe una letra cualquiera: cualquiera\n",
            "consonante\n"
          ]
        }
      ]
    }
  ]
}