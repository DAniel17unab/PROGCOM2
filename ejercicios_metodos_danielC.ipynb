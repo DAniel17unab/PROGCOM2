{
  "nbformat": 4,
  "nbformat_minor": 0,
  "metadata": {
    "colab": {
      "provenance": []
    },
    "kernelspec": {
      "name": "python3",
      "display_name": "Python 3"
    },
    "language_info": {
      "name": "python"
    }
  },
  "cells": [
    {
      "cell_type": "code",
      "execution_count": 1,
      "metadata": {
        "id": "szJD-2hHlREs"
      },
      "outputs": [],
      "source": [
        "def num(a,b):\n",
        "  if a>b:\n",
        "    print(f\"{a} es el mayor\")\n",
        "  else:\n",
        "   print(b, \" es el mayor\")\n",
        "  "
      ]
    },
    {
      "cell_type": "code",
      "source": [
        "print(num(4,9999999))"
      ],
      "metadata": {
        "colab": {
          "base_uri": "https://localhost:8080/"
        },
        "id": "3O3PnspFnlO8",
        "outputId": "65d601c1-9490-40fd-fbe1-f14086c7e6db"
      },
      "execution_count": 6,
      "outputs": [
        {
          "output_type": "stream",
          "name": "stdout",
          "text": [
            "9999999\n"
          ]
        }
      ]
    },
    {
      "cell_type": "code",
      "source": [
        "def mayor(x,y,z):\n",
        "  npc(x,npc(y,z))"
      ],
      "metadata": {
        "id": "N1TZQBA_nsjq"
      },
      "execution_count": 3,
      "outputs": []
    },
    {
      "cell_type": "code",
      "source": [
        "print(mayor(8,5,3))"
      ],
      "metadata": {
        "colab": {
          "base_uri": "https://localhost:8080/",
          "height": 235
        },
        "id": "naexcal2oEoh",
        "outputId": "229579dc-7b23-46e5-eb43-262aad73f436"
      },
      "execution_count": 8,
      "outputs": [
        {
          "output_type": "error",
          "ename": "NameError",
          "evalue": "ignored",
          "traceback": [
            "\u001b[0;31m---------------------------------------------------------------------------\u001b[0m",
            "\u001b[0;31mNameError\u001b[0m                                 Traceback (most recent call last)",
            "\u001b[0;32m<ipython-input-8-7287c6df4766>\u001b[0m in \u001b[0;36m<module>\u001b[0;34m\u001b[0m\n\u001b[0;32m----> 1\u001b[0;31m \u001b[0mprint\u001b[0m\u001b[0;34m(\u001b[0m\u001b[0mmayor\u001b[0m\u001b[0;34m(\u001b[0m\u001b[0;36m8\u001b[0m\u001b[0;34m,\u001b[0m\u001b[0;36m5\u001b[0m\u001b[0;34m,\u001b[0m\u001b[0;36m3\u001b[0m\u001b[0;34m)\u001b[0m\u001b[0;34m)\u001b[0m\u001b[0;34m\u001b[0m\u001b[0;34m\u001b[0m\u001b[0m\n\u001b[0m",
            "\u001b[0;32m<ipython-input-3-5d5c755fc6a0>\u001b[0m in \u001b[0;36mmayor\u001b[0;34m(x, y, z)\u001b[0m\n\u001b[1;32m      1\u001b[0m \u001b[0;32mdef\u001b[0m \u001b[0mmayor\u001b[0m\u001b[0;34m(\u001b[0m\u001b[0mx\u001b[0m\u001b[0;34m,\u001b[0m\u001b[0my\u001b[0m\u001b[0;34m,\u001b[0m\u001b[0mz\u001b[0m\u001b[0;34m)\u001b[0m\u001b[0;34m:\u001b[0m\u001b[0;34m\u001b[0m\u001b[0;34m\u001b[0m\u001b[0m\n\u001b[0;32m----> 2\u001b[0;31m   \u001b[0mnpc\u001b[0m\u001b[0;34m(\u001b[0m\u001b[0mx\u001b[0m\u001b[0;34m,\u001b[0m\u001b[0mnpc\u001b[0m\u001b[0;34m(\u001b[0m\u001b[0my\u001b[0m\u001b[0;34m,\u001b[0m\u001b[0mz\u001b[0m\u001b[0;34m)\u001b[0m\u001b[0;34m)\u001b[0m\u001b[0;34m\u001b[0m\u001b[0;34m\u001b[0m\u001b[0m\n\u001b[0m",
            "\u001b[0;31mNameError\u001b[0m: name 'npc' is not defined"
          ]
        }
      ]
    },
    {
      "cell_type": "code",
      "source": [
        "lista1=[1,5,9,-8]\n",
        "lista=0\n",
        "def sumar(lista):\n",
        "  a=0\n",
        "  a= lista[0] + lista[1] + lista[2] + lista[3]\n",
        "  print(a)\n",
        "\n"
      ],
      "metadata": {
        "id": "WQFA0QfLqo2S"
      },
      "execution_count": 40,
      "outputs": []
    },
    {
      "cell_type": "code",
      "source": [
        "def sumar1(lista):\n",
        "  a=0\n",
        "  a= lista[0] + lista[1] + lista[2] + lista[3]\n",
        "  return a"
      ],
      "metadata": {
        "id": "zhyZwiqouvQh"
      },
      "execution_count": 41,
      "outputs": []
    },
    {
      "cell_type": "code",
      "source": [
        "sumar1(lista1)"
      ],
      "metadata": {
        "colab": {
          "base_uri": "https://localhost:8080/"
        },
        "id": "e1rGksuUufLI",
        "outputId": "e8836095-f91c-447a-d075-9bd5e36e68c5"
      },
      "execution_count": 42,
      "outputs": [
        {
          "output_type": "execute_result",
          "data": {
            "text/plain": [
              "7"
            ]
          },
          "metadata": {},
          "execution_count": 42
        }
      ]
    },
    {
      "cell_type": "code",
      "source": [
        "lista1=[1,5,9,8]\n",
        "lista=0\n",
        "def multi(lista):\n",
        "  a=0\n",
        "  a= lista[0] * lista[1] * lista[2] * lista[3]\n",
        "  print(a)"
      ],
      "metadata": {
        "id": "GKn54q6OwYbx"
      },
      "execution_count": 46,
      "outputs": []
    },
    {
      "cell_type": "code",
      "source": [
        "def multi(lista):\n",
        "  a=0\n",
        "  a= lista[0] * lista[1] * lista[2] * lista[3]\n",
        "  return a"
      ],
      "metadata": {
        "id": "-oi3l2tCwbrQ"
      },
      "execution_count": 47,
      "outputs": []
    },
    {
      "cell_type": "code",
      "source": [
        "multi(lista1)"
      ],
      "metadata": {
        "colab": {
          "base_uri": "https://localhost:8080/"
        },
        "id": "0wjpc2sgwco4",
        "outputId": "397fc30d-fa47-4096-ef21-47c7e1170123"
      },
      "execution_count": 45,
      "outputs": [
        {
          "output_type": "execute_result",
          "data": {
            "text/plain": [
              "23"
            ]
          },
          "metadata": {},
          "execution_count": 45
        }
      ]
    },
    {
      "cell_type": "code",
      "source": [
        "def sumalista(listaNumeros):\n",
        "    sumita = 0\n",
        "    for i in listaNumeros:\n",
        "        sumita = sumita + i\n",
        "    return sumita\n",
        "\n",
        "print(sumalista([1,3]))"
      ],
      "metadata": {
        "colab": {
          "base_uri": "https://localhost:8080/"
        },
        "id": "Hf0yZzgBxHRv",
        "outputId": "b10501fb-552c-43ac-db4a-cbc755875c10"
      },
      "execution_count": 53,
      "outputs": [
        {
          "output_type": "stream",
          "name": "stdout",
          "text": [
            "4\n"
          ]
        }
      ]
    },
    {
      "cell_type": "code",
      "source": [
        "def multilista(listaNumeros):\n",
        "    mul = 1\n",
        "    for i in listaNumeros:\n",
        "        mul = mul * i\n",
        "    return mul\n",
        "\n",
        "print(multilista([3,8,8,8,8,8,8]))"
      ],
      "metadata": {
        "colab": {
          "base_uri": "https://localhost:8080/"
        },
        "id": "AMy6ei-0zENd",
        "outputId": "e7185601-ceae-424f-cdb6-5b0d2a8b2cb8"
      },
      "execution_count": 61,
      "outputs": [
        {
          "output_type": "stream",
          "name": "stdout",
          "text": [
            "786432\n"
          ]
        }
      ]
    },
    {
      "cell_type": "code",
      "source": [
        "def palabrita(a):\n",
        "    rev = input[::-1]\n",
        "    print(rev)\n",
        "\n",
        "##es un \"truco\" frecuentemente usado en python para obtener una lista o una cadena \"del revés\". Se basa en el operador slice (rodaja) cuya sintaxis general es:\n",
        "\n",
        "iterable[inicio:fin:paso]"
      ],
      "metadata": {
        "id": "YpDLDb3O3Fvf"
      },
      "execution_count": 93,
      "outputs": []
    },
    {
      "cell_type": "code",
      "source": [
        "palabrita(\"parcero\")"
      ],
      "metadata": {
        "colab": {
          "base_uri": "https://localhost:8080/"
        },
        "id": "2urv4cHn5khU",
        "outputId": "7cea597b-1ad0-4802-f738-b60f6b063ed2"
      },
      "execution_count": 94,
      "outputs": [
        {
          "output_type": "stream",
          "name": "stdout",
          "text": [
            "orecrap\n"
          ]
        }
      ]
    },
    {
      "cell_type": "code",
      "source": [
        "def facto(numero):\n",
        "    if numero <= 1:\n",
        "        return 1\n",
        "    return numero * facto(numero-1)"
      ],
      "metadata": {
        "id": "j5euRvWk8ONq"
      },
      "execution_count": 97,
      "outputs": []
    },
    {
      "cell_type": "code",
      "source": [
        "facto(5)"
      ],
      "metadata": {
        "colab": {
          "base_uri": "https://localhost:8080/"
        },
        "id": "T68Yq8dC8R8c",
        "outputId": "45d37610-34ee-4347-8330-394232f2c4a5"
      },
      "execution_count": 99,
      "outputs": [
        {
          "output_type": "execute_result",
          "data": {
            "text/plain": [
              "120"
            ]
          },
          "metadata": {},
          "execution_count": 99
        }
      ]
    },
    {
      "cell_type": "code",
      "source": [
        "def rango(a,r1,r2):\n",
        "  if a in range(r1,r2):\n",
        "   print(\"esta en el rango\")\n",
        "  else:\n",
        "   print(\"no esta en el rango\")\n"
      ],
      "metadata": {
        "id": "zhLLbrld-DyG"
      },
      "execution_count": 113,
      "outputs": []
    },
    {
      "cell_type": "code",
      "source": [
        "rango(7,6,9)"
      ],
      "metadata": {
        "colab": {
          "base_uri": "https://localhost:8080/"
        },
        "id": "-LSJ_tnAAQt5",
        "outputId": "d6cdc39b-640c-4969-8f73-bd7b86d87230"
      },
      "execution_count": 116,
      "outputs": [
        {
          "output_type": "stream",
          "name": "stdout",
          "text": [
            "esta en el rango\n"
          ]
        }
      ]
    },
    {
      "cell_type": "code",
      "source": [
        "palabrita= input(\"ingresa la palabra: \")\n",
        "if str(palabrita)==str(palabrita)[::-1]:\n",
        "  print(\"es palídromo\")\n",
        "else:\n",
        "  print(\"no es palídromo\")"
      ],
      "metadata": {
        "colab": {
          "base_uri": "https://localhost:8080/",
          "height": 235
        },
        "id": "Hjo0uJSbB6Fq",
        "outputId": "3d0439c9-3523-47c5-b1e2-e79bfaff50a5"
      },
      "execution_count": 123,
      "outputs": [
        {
          "output_type": "error",
          "ename": "TypeError",
          "evalue": "ignored",
          "traceback": [
            "\u001b[0;31m---------------------------------------------------------------------------\u001b[0m",
            "\u001b[0;31mTypeError\u001b[0m                                 Traceback (most recent call last)",
            "\u001b[0;32m<ipython-input-123-d71d8f190d8e>\u001b[0m in \u001b[0;36m<module>\u001b[0;34m\u001b[0m\n\u001b[0;32m----> 1\u001b[0;31m \u001b[0mpalabrita\u001b[0m\u001b[0;34m=\u001b[0m \u001b[0minput\u001b[0m\u001b[0;34m(\u001b[0m\u001b[0;34m\"ingresa la palabra: \"\u001b[0m\u001b[0;34m)\u001b[0m\u001b[0;34m\u001b[0m\u001b[0;34m\u001b[0m\u001b[0m\n\u001b[0m\u001b[1;32m      2\u001b[0m \u001b[0;32mif\u001b[0m \u001b[0mstr\u001b[0m\u001b[0;34m(\u001b[0m\u001b[0mpalabrita\u001b[0m\u001b[0;34m)\u001b[0m\u001b[0;34m==\u001b[0m\u001b[0mstr\u001b[0m\u001b[0;34m(\u001b[0m\u001b[0mpalabrita\u001b[0m\u001b[0;34m)\u001b[0m\u001b[0;34m[\u001b[0m\u001b[0;34m:\u001b[0m\u001b[0;34m:\u001b[0m\u001b[0;34m-\u001b[0m\u001b[0;36m1\u001b[0m\u001b[0;34m]\u001b[0m\u001b[0;34m:\u001b[0m\u001b[0;34m\u001b[0m\u001b[0;34m\u001b[0m\u001b[0m\n\u001b[1;32m      3\u001b[0m   \u001b[0mprint\u001b[0m\u001b[0;34m(\u001b[0m\u001b[0;34m\"es palídromo\"\u001b[0m\u001b[0;34m)\u001b[0m\u001b[0;34m\u001b[0m\u001b[0;34m\u001b[0m\u001b[0m\n\u001b[1;32m      4\u001b[0m \u001b[0;32melse\u001b[0m\u001b[0;34m:\u001b[0m\u001b[0;34m\u001b[0m\u001b[0;34m\u001b[0m\u001b[0m\n\u001b[1;32m      5\u001b[0m   \u001b[0mprint\u001b[0m\u001b[0;34m(\u001b[0m\u001b[0;34m\"no es palídromo\"\u001b[0m\u001b[0;34m)\u001b[0m\u001b[0;34m\u001b[0m\u001b[0;34m\u001b[0m\u001b[0m\n",
            "\u001b[0;31mTypeError\u001b[0m: 'str' object is not callable"
          ]
        }
      ]
    }
  ]
}