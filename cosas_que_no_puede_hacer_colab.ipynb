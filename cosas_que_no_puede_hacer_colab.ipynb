{
  "nbformat": 4,
  "nbformat_minor": 0,
  "metadata": {
    "colab": {
      "provenance": []
    },
    "kernelspec": {
      "name": "python3",
      "display_name": "Python 3"
    },
    "language_info": {
      "name": "python"
    }
  },
  "cells": [
    {
      "cell_type": "markdown",
      "source": [
        "#cosas que colab no pude hacer :)\n",
        "1. al guardar una información se genera un error y no permite llamar a una variable, luego se se debe desconectar el entorno de ejecución.\n",
        "2. no se pueden minar criptomonedas.\n",
        "3. no tiene cuota de alamasamiento ilimitada.\n",
        "4. no se pueden crear ultrafalsos.\n",
        "5. si se quiere usar un SSH o un escritorio remoto este no lo deja.\n",
        "6. En algunos entornos de ejecución no se puede.\n",
        "7. no podemos conectarno con proxies remotos.\n",
        "8. no se puede sacar contraseñas de manera iegal\n",
        "9. para ajustar los limetes de la disponibilidad del hardware se necesita flexibilidad.\n",
        "10. ejecutar ataques de denegación de ejercicios.\n",
        "11. no se puede graficar o identificar algun tipo de de libreria importada.\n",
        "12. Respecto a la computación interactiva no se pueden alojar contenido multimedia, archivos u otros servicios web que no esten relacionados con este.\n",
        "13. no sepuede descargar torrents o compartir archivos punto a punto.\n",
        "14. sin un GPU no se puede programar.\n",
        "15. Las operaciones de Google Drive pueden agotar el tiempo de espera cuando el número de archivos o subcarpetas de una carpeta se vuelve demasiado grande, sin superar el límite necesariamente.\n",
        "16. al no tener conexión no se puede ejecutar.\n",
        "17.  al tener contenido compartido puede ser modificado al mismo tiempo, esto es que cualquiera puede alterar el programa.\n",
        "18. no se puede hacer una sesión de mas de 12 horas y despues de ese tiempo se limpia nuestro ambiente y perdemos las variables y archivos que tengamos almacenados allí.\n",
        "19. Usar varias cuentas para eludir las restricciones de acceso o de uso de recursos\n",
        "20. Conjuntos de datos que se importan al entorno sin ser montado desde Google Drive se perderán cuando la máquina virtual se apague.\n",
        "\n",
        "\n",
        " \n",
        "\n"
      ],
      "metadata": {
        "id": "KG3HIg094Jjq"
      }
    }
  ]
}