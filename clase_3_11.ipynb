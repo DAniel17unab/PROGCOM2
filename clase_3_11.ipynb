{
  "nbformat": 4,
  "nbformat_minor": 0,
  "metadata": {
    "colab": {
      "provenance": []
    },
    "kernelspec": {
      "name": "python3",
      "display_name": "Python 3"
    },
    "language_info": {
      "name": "python"
    }
  },
  "cells": [
    {
      "cell_type": "code",
      "execution_count": 31,
      "metadata": {
        "id": "HIe_9pseJgAY"
      },
      "outputs": [],
      "source": [
        "class Sayayin():\n",
        "  def __init__(self,nombre, cabello,ojos,fuerza,estatura,cola):\n",
        "    self._cabello=\"negro\"\n",
        "    self._ojos=\"negros\"\n",
        "    self._fuerza=fuerza\n",
        "    self._estatura=estatura\n",
        "    self._cola_de_mono=True\n",
        "\n",
        "  def color_cabello(self,fuerza_base):\n",
        "    fuerza_t=9000\n",
        "    if fuerza_base*10 >= fuerza_t:\n",
        "      print(\"añcanza super sayayin 1\")\n",
        "      self.cabello=\"rubio\"\n",
        "    elif fuerza *20>=fuerza_t*20:\n",
        "      print(\"añcanza super sayayin 2\")\n",
        "      self.cabello=\"rubio mas larguito\"\n",
        "    elif fuerza *1000>=fuerza_t*1000:\n",
        "      print(\"añcanza super sayayin 4\")\n",
        "      self.cabello=\"negro\"\n",
        "      if self.cola== False:\n",
        "        self.cola= True\n",
        "    else:\n",
        "      print(\"alcanza su nivel ultrainstinto\")\n",
        "      self.cabello=\"cenizo\"\n",
        "\n",
        "    def luna(self,luna):\n",
        "      if self.cola and luna==\"luna llena\":\n",
        "        print(self.nombre,\"se convierte en monito grande\")\n",
        "        self.fuerza=self.fuerza*50\n",
        "      else:\n",
        "        print(self.nombre,\"no se convierte\")\n",
        "\n",
        "  def trabajo(self, trabajo):\n",
        "    if trabajo==1:\n",
        "      print(f\"{self.nombre}es un tipo de guerrero\")\n",
        "    elif trabajo==2:\n",
        "      print(f\"{self.nombre}es ude tipo liendra de freezer\")\n",
        "    if trabajo==3:\n",
        "      print(f\"{self.nombre}es de tipo mercenario\")\n",
        "    else:\n",
        "      print(f\"{self.nombre}es de la realeza\")\n"
      ]
    },
    {
      "cell_type": "code",
      "source": [
        "class Humano():\n",
        "  def __init__(self,nombre, cabello,ojos,fuerza,estatura,):\n",
        "    self.cabello=cabello\n",
        "    self.ojos=ojos\n",
        "    self.fuerza=fuerza\n",
        "    self.estatura=estatura\n",
        "    self.nombre=nombre\n",
        "\n",
        "  def color_cabello(self,tinte):\n",
        "    if tinte==0:\n",
        "      print(self.nombre, \"ha decolorado su cabello\")\n",
        "      self.cabello=\"amarillo\"\n",
        "    elif tinte==2:\n",
        "      print(\"ha decolorado su cabello de lila\")\n",
        "      self.cabello=\"lila\"\n",
        "    elif tinte==3:\n",
        "      print(\"ha decolorado su cabello nuez\")\n",
        "      self.cabello=\"nuez\"\n",
        "    else:\n",
        "      print(\"ha decolorado su cabello canoso\")\n",
        "      self.cabello=\"canoso\"\n",
        "\n",
        "  def trabajo(self, trabajo):\n",
        "    if trabajo==1:\n",
        "      print(f\"{self.nombre}es un callcenter\")\n",
        "    elif trabajo==2:\n",
        "      print(f\"{self.nombre}es de vendedor de bon ice\")\n",
        "    if trabajo==3:\n",
        "      print(f\"{self.nombre}es un tombo\")\n",
        "    else:\n",
        "      print(f\"{self.nombre}es nini\")"
      ],
      "metadata": {
        "id": "tEwVc4SBOMDA"
      },
      "execution_count": 32,
      "outputs": []
    },
    {
      "cell_type": "code",
      "source": [
        "class Hibrido(Sayayin,Humano):\n",
        "  pass"
      ],
      "metadata": {
        "id": "XnOVFbOZSnk1"
      },
      "execution_count": 33,
      "outputs": []
    },
    {
      "cell_type": "code",
      "source": [
        "goku=Sayayin(\"kakaroto\",\"arcoiris\",\"verde dorado\",100,50, True)\n",
        "goku.__dict__\n"
      ],
      "metadata": {
        "colab": {
          "base_uri": "https://localhost:8080/"
        },
        "id": "OznMWWtBTHBk",
        "outputId": "3d294847-512c-4e58-cf79-26e751ef4e7f"
      },
      "execution_count": 34,
      "outputs": [
        {
          "output_type": "execute_result",
          "data": {
            "text/plain": [
              "{'_cabello': 'negro',\n",
              " '_ojos': 'negros',\n",
              " '_fuerza': 100,\n",
              " '_estatura': 50,\n",
              " '_cola_de_mono': True}"
            ]
          },
          "metadata": {},
          "execution_count": 34
        }
      ]
    },
    {
      "cell_type": "code",
      "source": [
        "goku._cabello=\"negro\"\n",
        "goku.__dict__"
      ],
      "metadata": {
        "colab": {
          "base_uri": "https://localhost:8080/"
        },
        "id": "27JnJaf6UZXL",
        "outputId": "4caa4e7f-5839-47aa-b01e-51442a60565b"
      },
      "execution_count": 35,
      "outputs": [
        {
          "output_type": "execute_result",
          "data": {
            "text/plain": [
              "{'_cabello': 'negro',\n",
              " '_ojos': 'negros',\n",
              " '_fuerza': 100,\n",
              " '_estatura': 50,\n",
              " '_cola_de_mono': True}"
            ]
          },
          "metadata": {},
          "execution_count": 35
        }
      ]
    },
    {
      "cell_type": "code",
      "source": [
        "milk=Humano(\"milk\",\"negros\",\"negro\",100,50,)\n"
      ],
      "metadata": {
        "id": "4VVSaETKTXRl"
      },
      "execution_count": 36,
      "outputs": []
    },
    {
      "cell_type": "code",
      "source": [
        "goku.ojos=\"azul\""
      ],
      "metadata": {
        "id": "oDoUL4PaUFsr"
      },
      "execution_count": null,
      "outputs": []
    },
    {
      "cell_type": "code",
      "source": [
        "gohan=Hibrido(\"gohan\",\"negro\",\"aguamarina\",1000,50,True)"
      ],
      "metadata": {
        "id": "8zH294gYVR1S"
      },
      "execution_count": null,
      "outputs": []
    },
    {
      "cell_type": "code",
      "source": [
        "gohan.trabajo(4)\n",
        "print(gohan.trabajo(4))"
      ],
      "metadata": {
        "colab": {
          "base_uri": "https://localhost:8080/",
          "height": 190
        },
        "id": "-68FjZ2RV1Es",
        "outputId": "78358c54-19c5-432c-ce13-24779da28247"
      },
      "execution_count": 37,
      "outputs": [
        {
          "output_type": "error",
          "ename": "NameError",
          "evalue": "ignored",
          "traceback": [
            "\u001b[0;31m---------------------------------------------------------------------------\u001b[0m",
            "\u001b[0;31mNameError\u001b[0m                                 Traceback (most recent call last)",
            "\u001b[0;32m<ipython-input-37-f0168cb04a2c>\u001b[0m in \u001b[0;36m<module>\u001b[0;34m\u001b[0m\n\u001b[0;32m----> 1\u001b[0;31m \u001b[0mgohan\u001b[0m\u001b[0;34m.\u001b[0m\u001b[0mtrabajo\u001b[0m\u001b[0;34m(\u001b[0m\u001b[0;36m4\u001b[0m\u001b[0;34m)\u001b[0m\u001b[0;34m\u001b[0m\u001b[0;34m\u001b[0m\u001b[0m\n\u001b[0m\u001b[1;32m      2\u001b[0m \u001b[0mprint\u001b[0m\u001b[0;34m(\u001b[0m\u001b[0mgohan\u001b[0m\u001b[0;34m.\u001b[0m\u001b[0mtrabajo\u001b[0m\u001b[0;34m(\u001b[0m\u001b[0;36m4\u001b[0m\u001b[0;34m)\u001b[0m\u001b[0;34m)\u001b[0m\u001b[0;34m\u001b[0m\u001b[0;34m\u001b[0m\u001b[0m\n",
            "\u001b[0;31mNameError\u001b[0m: name 'gohan' is not defined"
          ]
        }
      ]
    }
  ]
}