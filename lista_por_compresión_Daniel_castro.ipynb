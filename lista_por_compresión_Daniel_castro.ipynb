{
  "nbformat": 4,
  "nbformat_minor": 0,
  "metadata": {
    "colab": {
      "provenance": []
    },
    "kernelspec": {
      "name": "python3",
      "display_name": "Python 3"
    },
    "language_info": {
      "name": "python"
    }
  },
  "cells": [
    {
      "cell_type": "markdown",
      "source": [
        "#Lista por compresión:\n",
        "sitaxis:\n",
        "     newList = [ expresión(elemento) for elemento n in oldList si condición ]"
      ],
      "metadata": {
        "id": "mUxZDsa7qOT_"
      }
    },
    {
      "cell_type": "markdown",
      "source": [
        "Esto tecnicamente es colocar  primero la expresión  u operación  y luego la condición."
      ],
      "metadata": {
        "id": "HUdpBVQTyR8P"
      }
    },
    {
      "cell_type": "code",
      "source": [
        "números=[n*2 for n in range(1,9)] \n",
        "print(números)"
      ],
      "metadata": {
        "colab": {
          "base_uri": "https://localhost:8080/"
        },
        "id": "VWvxGDwDtDFy",
        "outputId": "9f4afcbf-60bc-4bf6-9c48-aa5f3178fc68"
      },
      "execution_count": null,
      "outputs": [
        {
          "output_type": "stream",
          "name": "stdout",
          "text": [
            "[2, 4, 6, 8, 10, 12, 14, 16]\n"
          ]
        }
      ]
    },
    {
      "cell_type": "markdown",
      "source": [
        "ventajas:\n",
        "\n",
        "Más eficiente en tiempo y espacio que los bucles.\n",
        "\n",
        "Requiere menos líneas de código.\n",
        "\n",
        "Transforma una declaración iterativa en una fórmula."
      ],
      "metadata": {
        "id": "3S-NHDqkt6-L"
      }
    },
    {
      "cell_type": "code",
      "source": [
        "cadenas=[\"*\" n for n in range(1,6)]\n",
        "print(cadenas)"
      ],
      "metadata": {
        "colab": {
          "base_uri": "https://localhost:8080/",
          "height": 133
        },
        "id": "21_t3up0xZIX",
        "outputId": "ab45904c-f5b3-4211-d746-5dda2a7419bd"
      },
      "execution_count": null,
      "outputs": [
        {
          "output_type": "error",
          "ename": "SyntaxError",
          "evalue": "ignored",
          "traceback": [
            "\u001b[0;36m  File \u001b[0;32m\"<ipython-input-42-d0de5f04b49b>\"\u001b[0;36m, line \u001b[0;32m1\u001b[0m\n\u001b[0;31m    cadenas=[\"*\" n for n in range(1,6)]\u001b[0m\n\u001b[0m                 ^\u001b[0m\n\u001b[0;31mSyntaxError\u001b[0m\u001b[0;31m:\u001b[0m invalid syntax\n"
          ]
        }
      ]
    },
    {
      "cell_type": "code",
      "source": [
        "número=[2,5,6,9,10]\n",
        "cuadrados=[(n**2) for n in número]\n",
        "print(cuadrados)"
      ],
      "metadata": {
        "colab": {
          "base_uri": "https://localhost:8080/"
        },
        "id": "aqgEpBdGx3mP",
        "outputId": "a696b54d-b15b-4461-c5dc-cf91fd21919a"
      },
      "execution_count": null,
      "outputs": [
        {
          "output_type": "stream",
          "name": "stdout",
          "text": [
            "[4, 25, 36, 81, 100]\n"
          ]
        }
      ]
    },
    {
      "cell_type": "code",
      "source": [
        "cadena= \"programación\"\n",
        "letras=[]\n",
        "for letra  in cadena:\n",
        "  letras.append(letra)\n",
        "\n",
        "print(letras)"
      ],
      "metadata": {
        "colab": {
          "base_uri": "https://localhost:8080/"
        },
        "id": "g_pJhKa-yhu2",
        "outputId": "4210ff1f-e828-4e9e-f0b0-610926af6ed5"
      },
      "execution_count": null,
      "outputs": [
        {
          "output_type": "stream",
          "name": "stdout",
          "text": [
            "['p', 'r', 'o', 'g', 'r', 'a', 'm', 'a', 'c', 'i', 'ó', 'n']\n"
          ]
        }
      ]
    },
    {
      "cell_type": "code",
      "source": [
        "cadena = \"python\"\n",
        "letras =[ letra for letra in cadena]\n",
        "print(letras)"
      ],
      "metadata": {
        "colab": {
          "base_uri": "https://localhost:8080/"
        },
        "id": "s269hWT7zjNj",
        "outputId": "3b856266-e818-4736-8382-3d484ace830c"
      },
      "execution_count": null,
      "outputs": [
        {
          "output_type": "stream",
          "name": "stdout",
          "text": [
            "['p', 'y', 't', 'h', 'o', 'n']\n"
          ]
        }
      ]
    },
    {
      "cell_type": "code",
      "source": [
        "#Ejercicio by Samuelito\n",
        "x=input(\"Ingrese la palabra que desee: \")\n",
        "lista=[n for n in x]\n",
        "print(lista)"
      ],
      "metadata": {
        "colab": {
          "base_uri": "https://localhost:8080/"
        },
        "id": "rUsz-WMxCV31",
        "outputId": "04f4c8cf-c3d9-4548-b4f5-445df65055f9"
      },
      "execution_count": null,
      "outputs": [
        {
          "output_type": "stream",
          "name": "stdout",
          "text": [
            "Ingrese la palabra que desee: HoLa\n",
            "['H', 'o', 'L', 'a']\n"
          ]
        }
      ]
    },
    {
      "cell_type": "markdown",
      "source": [
        "#Ejercicio 2 Daniel Amado"
      ],
      "metadata": {
        "id": "6NQDj90WC4Ld"
      }
    },
    {
      "cell_type": "code",
      "source": [
        "lista1=[2,7,10,9,8]\n",
        "lista2=[elementos**2 for elementos in lista1 if elementos%2==0]\n",
        "print(\"nueva lista\",lista2) ## se imprimen los numeros pares"
      ],
      "metadata": {
        "colab": {
          "base_uri": "https://localhost:8080/"
        },
        "id": "AIzMno_KC3bE",
        "outputId": "b889ae89-d230-40b6-c272-a515a220da3e"
      },
      "execution_count": null,
      "outputs": [
        {
          "output_type": "stream",
          "name": "stdout",
          "text": [
            "nueva lista [4, 100, 64]\n"
          ]
        }
      ]
    },
    {
      "cell_type": "code",
      "source": [
        "## Ejercicio Iván\n",
        "import random\n",
        "capitan= [random.randrange(1,30)for i in range(9)] #randrange: Rango donde se va generar la lista aleatoria.\n",
        "print(\"Imprimir números aleatorios de la lista : \", str(capitan))"
      ],
      "metadata": {
        "colab": {
          "base_uri": "https://localhost:8080/"
        },
        "id": "F01XgDcKDebq",
        "outputId": "0e44c060-60ce-4d57-943a-f059b4ae3271"
      },
      "execution_count": null,
      "outputs": [
        {
          "output_type": "stream",
          "name": "stdout",
          "text": [
            "Imprimir números aleatorios de la lista :  [11, 25, 19, 3, 5, 9, 18, 18, 23]\n"
          ]
        }
      ]
    },
    {
      "cell_type": "code",
      "source": [
        "##ejercicio juan pablo\n",
        "precios=[]\n",
        "print('ingrese los números de los que quieres hacer un descuento')\n",
        "det =True\n",
        "while det:\n",
        "  num =int(input(' si no desea agregar mas números digite 0'))\n",
        "  precios.append(num)\n",
        "  det = False if num == 0 else num>0\n",
        "des=float(input(' ingrese el descuento sin el %'))\n",
        "presdes = [precio*des/100 for precio in precios]\n",
        "presdes.pop(-1)#.pop para no tomar un valor determinado de una lista\n",
        "print(' este es el valor que le debes resta a cada número ',presdes)"
      ],
      "metadata": {
        "colab": {
          "base_uri": "https://localhost:8080/"
        },
        "id": "cYrWqaJGFB5N",
        "outputId": "1119de84-9e1b-469b-a253-fb5b2f68afd3"
      },
      "execution_count": null,
      "outputs": [
        {
          "output_type": "stream",
          "name": "stdout",
          "text": [
            "ingrese los números de los que quieres hacer un descuento\n",
            " si no desea agregar mas números digite 0100\n",
            " si no desea agregar mas números digite 0200\n",
            " si no desea agregar mas números digite 0300\n",
            " si no desea agregar mas números digite 00\n",
            "ingrese el descuento sin el %30\n",
            " este es el valor que le debes resta a cada número  [30.0, 60.0, 90.0]\n"
          ]
        }
      ]
    },
    {
      "cell_type": "markdown",
      "source": [
        "EJERCICIO - CRISTIAN"
      ],
      "metadata": {
        "id": "Lf2T6uOaHhQy"
      }
    },
    {
      "cell_type": "code",
      "source": [
        "num = []\n",
        "for i in range(6):\n",
        "  num.append(int(input(\"introduce el numero ganardor \")))\n",
        "num.sort()\n",
        "print(\"los numeros ganadores del baloto son:\" + str(num) )"
      ],
      "metadata": {
        "colab": {
          "base_uri": "https://localhost:8080/"
        },
        "id": "zjfDclpgHel6",
        "outputId": "a9405902-c96d-4d5e-e233-f2b53a442ac0"
      },
      "execution_count": null,
      "outputs": [
        {
          "output_type": "stream",
          "name": "stdout",
          "text": [
            "introduce el numero ganardor 5\n",
            "introduce el numero ganardor 9\n",
            "introduce el numero ganardor 10\n",
            "introduce el numero ganardor 2\n",
            "introduce el numero ganardor 80\n",
            "introduce el numero ganardor 40\n",
            "los numeros ganadores del baloto son:[2, 5, 9, 10, 40, 80]\n"
          ]
        }
      ]
    },
    {
      "cell_type": "markdown",
      "source": [],
      "metadata": {
        "id": "6aowhbUuIOyF"
      }
    },
    {
      "cell_type": "code",
      "source": [],
      "metadata": {
        "id": "TPtBwS96IG9e"
      },
      "execution_count": null,
      "outputs": []
    }
  ]
}