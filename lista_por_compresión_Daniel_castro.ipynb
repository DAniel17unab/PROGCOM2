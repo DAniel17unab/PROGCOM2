{
  "nbformat": 4,
  "nbformat_minor": 0,
  "metadata": {
    "colab": {
      "provenance": []
    },
    "kernelspec": {
      "name": "python3",
      "display_name": "Python 3"
    },
    "language_info": {
      "name": "python"
    }
  },
  "cells": [
    {
      "cell_type": "markdown",
      "source": [
        "#Lista por compresión:\n",
        "sitaxis:\n",
        "     newList = [ expresión(elemento) for elemento n in oldList si condición ]"
      ],
      "metadata": {
        "id": "mUxZDsa7qOT_"
      }
    },
    {
      "cell_type": "markdown",
      "source": [
        "Esto tecnicamente es colocar  primero la expresión  u operación  y luego la condición."
      ],
      "metadata": {
        "id": "HUdpBVQTyR8P"
      }
    },
    {
      "cell_type": "code",
      "source": [
        "números=[n*2 for n in range(1,9)] \n",
        "print(números)"
      ],
      "metadata": {
        "colab": {
          "base_uri": "https://localhost:8080/"
        },
        "id": "VWvxGDwDtDFy",
        "outputId": "9f4afcbf-60bc-4bf6-9c48-aa5f3178fc68"
      },
      "execution_count": null,
      "outputs": [
        {
          "output_type": "stream",
          "name": "stdout",
          "text": [
            "[2, 4, 6, 8, 10, 12, 14, 16]\n"
          ]
        }
      ]
    },
    {
      "cell_type": "markdown",
      "source": [
        "ventajas:\n",
        "\n",
        "Más eficiente en tiempo y espacio que los bucles.\n",
        "\n",
        "Requiere menos líneas de código.\n",
        "\n",
        "Transforma una declaración iterativa en una fórmula."
      ],
      "metadata": {
        "id": "3S-NHDqkt6-L"
      }
    },
    {
      "cell_type": "code",
      "source": [
        "cadenas=[\"*\" n for n in range(1,6)]\n",
        "print(cadenas)"
      ],
      "metadata": {
        "colab": {
          "base_uri": "https://localhost:8080/",
          "height": 133
        },
        "id": "21_t3up0xZIX",
        "outputId": "ab45904c-f5b3-4211-d746-5dda2a7419bd"
      },
      "execution_count": null,
      "outputs": [
        {
          "output_type": "error",
          "ename": "SyntaxError",
          "evalue": "ignored",
          "traceback": [
            "\u001b[0;36m  File \u001b[0;32m\"<ipython-input-42-d0de5f04b49b>\"\u001b[0;36m, line \u001b[0;32m1\u001b[0m\n\u001b[0;31m    cadenas=[\"*\" n for n in range(1,6)]\u001b[0m\n\u001b[0m                 ^\u001b[0m\n\u001b[0;31mSyntaxError\u001b[0m\u001b[0;31m:\u001b[0m invalid syntax\n"
          ]
        }
      ]
    },
    {
      "cell_type": "code",
      "source": [
        "número=[2,5,6,9,10]\n",
        "cuadrados=[(n**2) for n in número]\n",
        "print(cuadrados)"
      ],
      "metadata": {
        "colab": {
          "base_uri": "https://localhost:8080/"
        },
        "id": "aqgEpBdGx3mP",
        "outputId": "a696b54d-b15b-4461-c5dc-cf91fd21919a"
      },
      "execution_count": null,
      "outputs": [
        {
          "output_type": "stream",
          "name": "stdout",
          "text": [
            "[4, 25, 36, 81, 100]\n"
          ]
        }
      ]
    },
    {
      "cell_type": "code",
      "source": [
        "cadena= \"programación\"\n",
        "letras=[]\n",
        "for letra  in cadena:\n",
        "  letras.append(letra)\n",
        "\n",
        "print(letras)"
      ],
      "metadata": {
        "colab": {
          "base_uri": "https://localhost:8080/"
        },
        "id": "g_pJhKa-yhu2",
        "outputId": "4210ff1f-e828-4e9e-f0b0-610926af6ed5"
      },
      "execution_count": null,
      "outputs": [
        {
          "output_type": "stream",
          "name": "stdout",
          "text": [
            "['p', 'r', 'o', 'g', 'r', 'a', 'm', 'a', 'c', 'i', 'ó', 'n']\n"
          ]
        }
      ]
    },
    {
      "cell_type": "code",
      "source": [
        "cadena = \"python\"\n",
        "letras =[ letra for letra in cadena]\n",
        "print(letras)"
      ],
      "metadata": {
        "colab": {
          "base_uri": "https://localhost:8080/"
        },
        "id": "s269hWT7zjNj",
        "outputId": "3b856266-e818-4736-8382-3d484ace830c"
      },
      "execution_count": null,
      "outputs": [
        {
          "output_type": "stream",
          "name": "stdout",
          "text": [
            "['p', 'y', 't', 'h', 'o', 'n']\n"
          ]
        }
      ]
    },
    {
      "cell_type": "code",
      "source": [
        "#Ejercicio by Samuelito\n",
        "x=input(\"Ingrese la palabra que desee: \")\n",
        "lista=[n for n in x]\n",
        "print(lista)"
      ],
      "metadata": {
        "colab": {
          "base_uri": "https://localhost:8080/"
        },
        "id": "rUsz-WMxCV31",
        "outputId": "04f4c8cf-c3d9-4548-b4f5-445df65055f9"
      },
      "execution_count": null,
      "outputs": [
        {
          "output_type": "stream",
          "name": "stdout",
          "text": [
            "Ingrese la palabra que desee: HoLa\n",
            "['H', 'o', 'L', 'a']\n"
          ]
        }
      ]
    },
    {
      "cell_type": "markdown",
      "source": [
        "#Ejercicio 2 Daniel Amado"
      ],
      "metadata": {
        "id": "6NQDj90WC4Ld"
      }
    },
    {
      "cell_type": "code",
      "source": [
        "lista1=[2,7,10,9,8]\n",
        "lista2=[elementos**2 for elementos in lista1 if elementos%2==0]\n",
        "print(\"nueva lista\",lista2) ## se imprimen los numeros pares"
      ],
      "metadata": {
        "colab": {
          "base_uri": "https://localhost:8080/"
        },
        "id": "AIzMno_KC3bE",
        "outputId": "b889ae89-d230-40b6-c272-a515a220da3e"
      },
      "execution_count": null,
      "outputs": [
        {
          "output_type": "stream",
          "name": "stdout",
          "text": [
            "nueva lista [4, 100, 64]\n"
          ]
        }
      ]
    },
    {
      "cell_type": "code",
      "source": [
        "## Ejercicio Iván\n",
        "import random\n",
        "capitan= [random.randrange(1,30)for i in range(9)] #randrange: Rango donde se va generar la lista aleatoria.\n",
        "print(\"Imprimir números aleatorios de la lista : \", str(capitan))"
      ],
      "metadata": {
        "colab": {
          "base_uri": "https://localhost:8080/"
        },
        "id": "F01XgDcKDebq",
        "outputId": "0e44c060-60ce-4d57-943a-f059b4ae3271"
      },
      "execution_count": null,
      "outputs": [
        {
          "output_type": "stream",
          "name": "stdout",
          "text": [
            "Imprimir números aleatorios de la lista :  [11, 25, 19, 3, 5, 9, 18, 18, 23]\n"
          ]
        }
      ]
    },
    {
      "cell_type": "code",
      "source": [
        "##ejercicio juan pablo\n",
        "precios=[]\n",
        "print('ingrese los números de los que quieres hacer un descuento')\n",
        "det =True\n",
        "while det:\n",
        "  num =int(input(' si no desea agregar mas números digite 0'))\n",
        "  precios.append(num)\n",
        "  det = False if num == 0 else num>0\n",
        "des=float(input(' ingrese el descuento sin el %'))\n",
        "presdes = [precio*des/100 for precio in precios]\n",
        "presdes.pop(-1)#.pop para no tomar un valor determinado de una lista\n",
        "print(' este es el valor que le debes resta a cada número ',presdes)"
      ],
      "metadata": {
        "colab": {
          "base_uri": "https://localhost:8080/"
        },
        "id": "cYrWqaJGFB5N",
        "outputId": "1119de84-9e1b-469b-a253-fb5b2f68afd3"
      },
      "execution_count": null,
      "outputs": [
        {
          "output_type": "stream",
          "name": "stdout",
          "text": [
            "ingrese los números de los que quieres hacer un descuento\n",
            " si no desea agregar mas números digite 0100\n",
            " si no desea agregar mas números digite 0200\n",
            " si no desea agregar mas números digite 0300\n",
            " si no desea agregar mas números digite 00\n",
            "ingrese el descuento sin el %30\n",
            " este es el valor que le debes resta a cada número  [30.0, 60.0, 90.0]\n"
          ]
        }
      ]
    },
    {
      "cell_type": "markdown",
      "source": [
        "EJERCICIO - CRISTIAN"
      ],
      "metadata": {
        "id": "Lf2T6uOaHhQy"
      }
    },
    {
      "cell_type": "code",
      "source": [
        "num = []\n",
        "for i in range(6):\n",
        "  num.append(int(input(\"introduce el numero ganardor \")))\n",
        "num.sort()\n",
        "print(\"los numeros ganadores del baloto son:\" + str(num) )"
      ],
      "metadata": {
        "colab": {
          "base_uri": "https://localhost:8080/"
        },
        "id": "zjfDclpgHel6",
        "outputId": "a9405902-c96d-4d5e-e233-f2b53a442ac0"
      },
      "execution_count": null,
      "outputs": [
        {
          "output_type": "stream",
          "name": "stdout",
          "text": [
            "introduce el numero ganardor 5\n",
            "introduce el numero ganardor 9\n",
            "introduce el numero ganardor 10\n",
            "introduce el numero ganardor 2\n",
            "introduce el numero ganardor 80\n",
            "introduce el numero ganardor 40\n",
            "los numeros ganadores del baloto son:[2, 5, 9, 10, 40, 80]\n"
          ]
        }
      ]
    },
    {
      "cell_type": "markdown",
      "source": [
        "EJERCICIO- JULITO"
      ],
      "metadata": {
        "id": "6aowhbUuIOyF"
      }
    },
    {
      "cell_type": "code",
      "source": [
        "##TRADICIONAL\n",
        "n=int(input(\"ingresa el numero de palabras que vas a ingresar\"))\n",
        "lista=[]\n",
        "lista1=[]\n",
        "for i in range(n):\n",
        "  l=input(\"ingresa la palabra\")\n",
        "  if l.isupper():lista.append(l)\n",
        "  if l.islower():lista1.append(l)\n"
      ],
      "metadata": {
        "colab": {
          "base_uri": "https://localhost:8080/"
        },
        "id": "8A1ewsPZunLX",
        "outputId": "52ebb20e-a72b-4087-aa3f-cd05b377f3a3"
      },
      "execution_count": 7,
      "outputs": [
        {
          "name": "stdout",
          "output_type": "stream",
          "text": [
            "ingresa el numero de palabras que vas a ingresar3\n",
            "ingresa la palabrakdkdkdk\n",
            "ingresa la palabralslsls\n",
            "ingresa la palabraLSKSDKA\n"
          ]
        }
      ]
    },
    {
      "cell_type": "code",
      "source": [
        "lista\n"
      ],
      "metadata": {
        "colab": {
          "base_uri": "https://localhost:8080/"
        },
        "id": "3-Kcasn8wU10",
        "outputId": "d8fa7852-4ea5-41ff-aa9d-f2be2aa30b31"
      },
      "execution_count": 8,
      "outputs": [
        {
          "output_type": "execute_result",
          "data": {
            "text/plain": [
              "['LSKSDKA']"
            ]
          },
          "metadata": {},
          "execution_count": 8
        }
      ]
    },
    {
      "cell_type": "code",
      "source": [
        "lista1"
      ],
      "metadata": {
        "colab": {
          "base_uri": "https://localhost:8080/"
        },
        "id": "YRdkgm1wy9kK",
        "outputId": "39d122e8-6127-4476-8fae-a4bb672a98fc"
      },
      "execution_count": 9,
      "outputs": [
        {
          "output_type": "execute_result",
          "data": {
            "text/plain": [
              "['kdkdkdk', 'lslsls']"
            ]
          },
          "metadata": {},
          "execution_count": 9
        }
      ]
    },
    {
      "cell_type": "code",
      "source": [
        "##comprensión\n",
        "n=int(input(\"ingresa el número de palabras que vas a ingresar \"))\n",
        "lista3=[]\n",
        "for i in range(n):\n",
        "  l=input(\"ingresa la palabra \")\n",
        "  lista3.append(l)\n",
        "\n",
        "lista_comprimida_M=[elemento for elemento in lista3 if elemento.isupper()]\n",
        "lista_comprimida_m=[elemento for elemento in lista3 if elemento.islower()]\n",
        "\n",
        "print(\"las palabras escritas es mayúscula son \")\n",
        "print(lista_comprimida_M)\n",
        "print(\"las palabras escritas es minúscula son \")\n",
        "print(lista_comprimida_m)"
      ],
      "metadata": {
        "colab": {
          "base_uri": "https://localhost:8080/"
        },
        "id": "2ftZA1RKziwo",
        "outputId": "a3066d54-8add-46a6-f7eb-6cda95258c72"
      },
      "execution_count": 22,
      "outputs": [
        {
          "output_type": "stream",
          "name": "stdout",
          "text": [
            "ingresa el número de palabras que vas a ingresar 2\n",
            "ingresa la palabra HOLA\n",
            "ingresa la palabra hola\n",
            "las palabras escritas es mayúscula son \n",
            "['HOLA']\n",
            "las palabras escritas es minúscula son \n",
            "['hola']\n"
          ]
        }
      ]
    },
    {
      "cell_type": "code",
      "source": [
        "\n",
        "lista_comprimida_M=list(map(lambda elemento:True if elemento.isupper()else False,lista3))\n",
        "lista_comprimida_m=list(map(lambda elemento:True if elemento.islower()else False,lista3))\n",
        "\n",
        "print(\"las palabras escritas es mayúscula son \")\n",
        "print(lista_comprimida_M)\n",
        "print(\"las palabras escritas es minúscula son \")\n",
        "print(lista_comprimida_m)"
      ],
      "metadata": {
        "colab": {
          "base_uri": "https://localhost:8080/"
        },
        "id": "a7teUWPF0uhe",
        "outputId": "61eabe87-19ee-4969-d09f-6688809ac333"
      },
      "execution_count": 23,
      "outputs": [
        {
          "output_type": "stream",
          "name": "stdout",
          "text": [
            "las palabras escritas es mayúscula son \n",
            "[True, False]\n",
            "las palabras escritas es minúscula son \n",
            "[False, True]\n"
          ]
        }
      ]
    },
    {
      "cell_type": "markdown",
      "source": [
        "##Ejercicio By Leslie Karina jeje"
      ],
      "metadata": {
        "id": "80X0fDcM6M7I"
      }
    },
    {
      "cell_type": "markdown",
      "source": [
        "##Tradicional"
      ],
      "metadata": {
        "id": "_yaUwK157bkX"
      }
    },
    {
      "cell_type": "code",
      "source": [
        "def pali (word):\n",
        "  rev=word[::-1]\n",
        "  return word==rev\n",
        "word=(input(\"Digita una palabra \")).lower()\n",
        "final=pali(word)\n",
        "if final == True:\n",
        "  print(f\"{word} es una palabra palíndromo\")\n",
        "else:\n",
        "  print(f\"{word} no es una palabra palíndromo\")"
      ],
      "metadata": {
        "colab": {
          "base_uri": "https://localhost:8080/"
        },
        "id": "qIBc09x02NA3",
        "outputId": "48e27b84-45f7-442a-fc16-6ba5102e219a"
      },
      "execution_count": 4,
      "outputs": [
        {
          "output_type": "stream",
          "name": "stdout",
          "text": [
            "Digita una palabra Ana\n",
            "ana es una palabra palíndromo\n"
          ]
        }
      ]
    },
    {
      "cell_type": "markdown",
      "source": [
        "##Lambda"
      ],
      "metadata": {
        "id": "FgDXO_057dtO"
      }
    },
    {
      "cell_type": "code",
      "source": [
        "c=int(input(\"Digita la cantidad de elementos que deseas ingresar: \"))\n",
        "lista1=[]\n",
        "for i in range(c):\n",
        "  word=input(\"Escribe aquí: \").lower()\n",
        "  lista1.append(word)\n",
        "print(lista1)\n",
        "lista2=list((map(lambda x:True if x==x[::-1] else False,lista1)))\n",
        "lista2\n"
      ],
      "metadata": {
        "colab": {
          "base_uri": "https://localhost:8080/"
        },
        "id": "qYPakkSj5RKH",
        "outputId": "06eb5414-b2bf-4783-98c8-b0ee502654d5"
      },
      "execution_count": 9,
      "outputs": [
        {
          "output_type": "stream",
          "name": "stdout",
          "text": [
            "Digita la cantidad de elementos que deseas ingresar: 3\n",
            "Escribe aquí: Somos\n",
            "Escribe aquí: ana\n",
            "Escribe aquí: Mañana\n",
            "['somos', 'ana', 'mañana']\n"
          ]
        },
        {
          "output_type": "execute_result",
          "data": {
            "text/plain": [
              "[True, True, False]"
            ]
          },
          "metadata": {},
          "execution_count": 9
        }
      ]
    },
    {
      "cell_type": "markdown",
      "source": [
        "*Normal*"
      ],
      "metadata": {
        "id": "lZIeJnmW_TJU"
      }
    },
    {
      "cell_type": "code",
      "source": [
        "import random\n",
        "#declaro la lista del inventario\n",
        "stock=['martillo','alicate','clavo','perno']\n",
        "#declaro la lista que me dice si el objeto es de buena calidad o mala\n",
        "cality=['GOOD','FAIL']\n",
        "a=[]\n",
        "#Este for es para agregarle una calidad utilizando el random\n",
        "for i in stock:\n",
        "  #La variable a guarda por ejemplo: martilloGOOD que significa que es de buena calidad\n",
        "  a.append((i,random.choice(cality)))\n",
        "#Defino las listas que me van a guardar cuales elementos tienen buena calidad o no\n",
        "listg=[]\n",
        "listf=[]\n",
        "#Aqui guardo en cada lista los de calidad y los malucos\n",
        "for x in a:\n",
        "  if 'GOOD' in x:\n",
        "    listg.append(x)\n",
        "    \n",
        "  #Uso el elif para ver mejor el funcionamiento\n",
        "  elif 'FAIL' in x:\n",
        "    listf.append(x)\n",
        "print('Estos no deberias de comprar',listf)\n",
        "print('Esto si debrias de comprar',listg)"
      ],
      "metadata": {
        "colab": {
          "base_uri": "https://localhost:8080/"
        },
        "id": "uObVLY3O9GpJ",
        "outputId": "f60f9926-64f6-4b2c-dba3-1381357e1d44"
      },
      "execution_count": 23,
      "outputs": [
        {
          "output_type": "stream",
          "name": "stdout",
          "text": [
            "Estos no deberias de comprar [('martillo', 'FAIL'), ('alicate', 'FAIL'), ('perno', 'FAIL')]\n",
            "Esto si debrias de comprar [('clavo', 'GOOD')]\n"
          ]
        }
      ]
    },
    {
      "cell_type": "markdown",
      "source": [
        "Compresion"
      ],
      "metadata": {
        "id": "QRsQ3mE4_XR7"
      }
    },
    {
      "cell_type": "code",
      "source": [
        "import random\n",
        "#declaro la lista del inventario\n",
        "stock=['martillo','alicate','clavo','perno']\n",
        "#declaro la lista que me dice si el objeto es de buena calidad o mala\n",
        "cality=['GOOD','FAIL']\n",
        "a=[]\n",
        "#Este for es para agregarle una calidad utilizando el random\n",
        "for i in stock:\n",
        "  #La variable a guarda por ejemplo: martilloGOOD que significa que es de buena calidad\n",
        "  a.append((i,random.choice(cality)))\n",
        "listg=[]\n",
        "listf=[]\n",
        "# U S O  D E  C O M P R E S I O N\n",
        "listg=[x for x in a if 'GOOD' in x]\n",
        "listf=[x for x in a if 'FAIL' in x]\n",
        "print(listf,listg)\n",
        "\n",
        "\n"
      ],
      "metadata": {
        "colab": {
          "base_uri": "https://localhost:8080/"
        },
        "id": "wCBge9ms_Ywi",
        "outputId": "385f4a5f-3a9a-46a2-d814-2140cd63c1f1"
      },
      "execution_count": 24,
      "outputs": [
        {
          "output_type": "stream",
          "name": "stdout",
          "text": [
            "[('martillo', 'FAIL'), ('alicate', 'FAIL'), ('clavo', 'FAIL')] [('perno', 'GOOD')]\n"
          ]
        }
      ]
    },
    {
      "cell_type": "markdown",
      "source": [
        "Lambda"
      ],
      "metadata": {
        "id": "UsaCZEu_AFKG"
      }
    },
    {
      "cell_type": "code",
      "source": [
        "import random\n",
        "stock=['martillo','alicate','clavo','perno']\n",
        "cality=['GOOD','FAIL']\n",
        "a=[]\n",
        "for i in stock:\n",
        "  a.append((i,random.choice(cality)))\n",
        "print(a)\n",
        "listg=[]\n",
        "listf=[]\n",
        "listg = list(filter(lambda x: x == 'GOOD',a[0][1]))\n",
        "print(listg)\n",
        "listf = list(filter(lambda x: x == 'FAIL',a[0][1]))\n",
        "print(listf)"
      ],
      "metadata": {
        "colab": {
          "base_uri": "https://localhost:8080/"
        },
        "id": "4aUAs7h6AGeu",
        "outputId": "1f090c5d-34af-437d-9bb6-0b4fc0d85890"
      },
      "execution_count": 52,
      "outputs": [
        {
          "output_type": "stream",
          "name": "stdout",
          "text": [
            "[('martillo', 'FAIL'), ('alicate', 'GOOD'), ('clavo', 'GOOD'), ('perno', 'GOOD')]\n",
            "[]\n",
            "[]\n"
          ]
        }
      ]
    },
    {
      "cell_type": "markdown",
      "source": [
        "# Ejercicio Paula"
      ],
      "metadata": {
        "id": "kANvVMMbGUTQ"
      }
    },
    {
      "cell_type": "code",
      "source": [
        "def capitalizar(oracion):\n",
        "  lista1=[]\n",
        "  for l in n1:\n",
        "    lista1.append(l)\n",
        "    lista1[0]=n1[0].upper()\n",
        "  print(\"\".join(lista1))"
      ],
      "metadata": {
        "id": "0HgboOpyGXnh"
      },
      "execution_count": 53,
      "outputs": []
    },
    {
      "cell_type": "code",
      "source": [
        "n1=input(\"Ingresa una oración\")\n",
        "oracion=capitalizar(n1)\n",
        "oracion"
      ],
      "metadata": {
        "colab": {
          "base_uri": "https://localhost:8080/"
        },
        "id": "a-PFGwFUHH_c",
        "outputId": "42ac52d2-1c80-4598-d05e-06f3da5db6fc"
      },
      "execution_count": 54,
      "outputs": [
        {
          "output_type": "stream",
          "name": "stdout",
          "text": [
            "Ingresa una oraciónhola carambola\n",
            "Hola carambola\n"
          ]
        }
      ]
    },
    {
      "cell_type": "code",
      "source": [
        "listap=[]\n",
        "n=input(\"Ingresa una oración\")\n",
        "for l in n:\n",
        "    listap.append(l)\n",
        "    listap[0]=n[0].upper()\n",
        "print(\"\".join(listap))\n"
      ],
      "metadata": {
        "colab": {
          "base_uri": "https://localhost:8080/"
        },
        "id": "xLLHf9W_Hvwx",
        "outputId": "041a3d47-988d-4477-bae6-55d8dbbdb790"
      },
      "execution_count": 56,
      "outputs": [
        {
          "output_type": "stream",
          "name": "stdout",
          "text": [
            "Ingresa una oraciónhola\n",
            "Hola\n"
          ]
        }
      ]
    },
    {
      "cell_type": "code",
      "source": [
        "n3=lambda x:x[0].upper()+x[1::]\n",
        "n=n3(n)\n",
        "n"
      ],
      "metadata": {
        "colab": {
          "base_uri": "https://localhost:8080/",
          "height": 35
        },
        "id": "yb9yZON-Ntpf",
        "outputId": "5a63ab5a-e813-42c7-ea1b-0cf3184c0083"
      },
      "execution_count": 81,
      "outputs": [
        {
          "output_type": "execute_result",
          "data": {
            "text/plain": [
              "'Hola'"
            ],
            "application/vnd.google.colaboratory.intrinsic+json": {
              "type": "string"
            }
          },
          "metadata": {},
          "execution_count": 81
        }
      ]
    },
    {
      "cell_type": "markdown",
      "source": [
        "#Ejercicio Francisco Miranda "
      ],
      "metadata": {
        "id": "hyeKBg6QI5pW"
      }
    },
    {
      "cell_type": "code",
      "source": [
        "#Tradicional\n",
        "import random\n",
        "palabras=[\"a\",\"e\",\"i\",\"o\",\"u\"]\n",
        "numero=[1,2,3,4,5,6,7,8,9]\n",
        "generador=[]\n",
        "for i in range(0,5):\n",
        "  generador.append(random.choice(palabras))\n",
        "  generador.append(random.choice(numero))\n",
        "print(generador)"
      ],
      "metadata": {
        "colab": {
          "base_uri": "https://localhost:8080/"
        },
        "id": "Rhp6kU0uI5al",
        "outputId": "683e42fe-8c88-4789-c902-fb8d3c2247d3"
      },
      "execution_count": 58,
      "outputs": [
        {
          "output_type": "stream",
          "name": "stdout",
          "text": [
            "['a', 9, 'e', 8, 'o', 2, 'u', 1, 'a', 3]\n"
          ]
        }
      ]
    },
    {
      "cell_type": "code",
      "source": [
        "#compre\n",
        "import random\n",
        "x=input(\"Ingrese la palabra de la contraseña\")\n",
        "palabras=[letra for letra in x]\n",
        "numeros2=[num for num in range(0,10)]\n",
        "generador=[random.choice(numeros2) or random.choice(palabras) for num in range(0,11)]\n",
        "print(generador)\n"
      ],
      "metadata": {
        "colab": {
          "base_uri": "https://localhost:8080/"
        },
        "id": "hltfPa2aJilk",
        "outputId": "b05e954f-f615-4867-ad97-f6d2dcef6ab7"
      },
      "execution_count": 80,
      "outputs": [
        {
          "output_type": "stream",
          "name": "stdout",
          "text": [
            "Ingrese la palabra de la contraseñahoola\n",
            "[1, 6, 'l', 9, 5, 6, 1, 'h', 8, 8, 5]\n"
          ]
        }
      ]
    },
    {
      "cell_type": "code",
      "source": [
        "x=input(\"Ingrese la palabra de la contraseña\")\n",
        "palabras=[letra for letra in x]\n",
        "numeros2=[num for num in range(0,10)]\n",
        "generador2=[random.choice(list(map(lambda x:x, numeros2))) or random.choice(sorted(palabras, key=lambda letra: letra in palabras)) for num in range(0,11)]\n",
        "print(generador2)"
      ],
      "metadata": {
        "colab": {
          "base_uri": "https://localhost:8080/"
        },
        "id": "s8UqS_1QLKI-",
        "outputId": "530ca067-80a8-4aa0-cb9f-214987b3c82e"
      },
      "execution_count": 78,
      "outputs": [
        {
          "output_type": "stream",
          "name": "stdout",
          "text": [
            "Ingrese la palabra de la contraseñahooa\n",
            "[4, 1, 'o', 5, 2, 4, 7, 2, 7, 'h', 9]\n"
          ]
        }
      ]
    },
    {
      "cell_type": "markdown",
      "source": [
        "Ejercicio Ana"
      ],
      "metadata": {
        "id": "xWWr31EQON0N"
      }
    },
    {
      "cell_type": "code",
      "source": [
        "#normal\n",
        "print(\"¡Hola! Soy Lucía del sistema de asignación de turnos para pasaporte de la Gobernación \\n Solo las personas mayores de edad tendrán su cita mañana en el rango de 6am a 12 pm \\n y los menores de edad la tendrán en el rango de 2pm a 6pm \\n \" )\n",
        "lista1=[('Pedro',33),('Ana',3),('Juan',13),('Carla',45)]\n",
        "lista2=[]\n",
        "lista3=[]\n",
        "for elemento in lista1:\n",
        "  if elemento[1]>=18:\n",
        "    lista2.append(elemento)\n",
        "print(f'{lista2} tendrán la cita a las 8am y 10am respectivamente')\n",
        "\n",
        "for elemento in lista1:\n",
        "  if elemento[1]<18:\n",
        "    lista3.append(elemento)\n",
        "print(f'{lista3} tendrán la cita a las 2pm y 4pm respectivamente')"
      ],
      "metadata": {
        "colab": {
          "base_uri": "https://localhost:8080/"
        },
        "id": "BEBU1tgYNNEQ",
        "outputId": "8a2506e0-08a0-48da-8687-a3b735b7c71f"
      },
      "execution_count": 82,
      "outputs": [
        {
          "output_type": "stream",
          "name": "stdout",
          "text": [
            "¡Hola! Soy Lucía del sistema de asignación de turnos para pasaporte de la Gobernación \n",
            " Solo las personas mayores de edad tendrán su cita mañana en el rango de 6am a 12 pm \n",
            " y los menores de edad la tendrán en el rango de 2pm a 6pm \n",
            " \n",
            "[('Pedro', 33), ('Carla', 45)] tendrán la cita a las 8am y 10am respectivamente\n",
            "[('Ana', 3), ('Juan', 13)] tendrán la cita a las 2pm y 4pm respectivamente\n"
          ]
        }
      ]
    },
    {
      "cell_type": "code",
      "source": [
        "#compresión\n",
        "print(\"¡Hola! Soy Lucía del sistema de asignación de turnos para pasaporte de la Gobernación \\n Solo las personas mayores de edad tendrán su cita mañana en el rango de 6am a 12 pm \\n y los menores de edad la tendrán en el rango de 2pm a 6pm \\n \" )\n",
        "personas=[('Pedro',33),('Ana',3),('Juan',13),('Carla',45)]\n",
        "\n",
        "\n",
        "personas_mayores=[per for per in personas if per[1]>=18]\n",
        "print(f'{personas_mayores} tendrán la cita a las 8am y 10am respectivamente')\n",
        "\n",
        "personas_menores=[per for per in personas if per[1]<18]\n",
        "print(f'{personas_menores} tendrán la cita a las 2pm y 4pm respectivamente')\n"
      ],
      "metadata": {
        "colab": {
          "base_uri": "https://localhost:8080/"
        },
        "id": "Y6MELUCfOWd0",
        "outputId": "e8b6bbfd-18d7-40f1-eddd-c7d9f5381750"
      },
      "execution_count": 83,
      "outputs": [
        {
          "output_type": "stream",
          "name": "stdout",
          "text": [
            "¡Hola! Soy Lucía del sistema de asignación de turnos para pasaporte de la Gobernación \n",
            " Solo las personas mayores de edad tendrán su cita mañana en el rango de 6am a 12 pm \n",
            " y los menores de edad la tendrán en el rango de 2pm a 6pm \n",
            " \n",
            "[('Pedro', 33), ('Carla', 45)] tendrán la cita a las 8am y 10am respectivamente\n",
            "[('Ana', 3), ('Juan', 13)] tendrán la cita a las 2pm y 4pm respectivamente\n"
          ]
        }
      ]
    },
    {
      "cell_type": "code",
      "source": [
        "#lambda\n",
        "print(\"¡Hola! Soy Lucía del sistema de asignación de turnos para pasaporte de la Gobernación \\n Solo las personas mayores de edad tendrán su cita mañana en el rango de 6am a 12 pm \\n y los menores de edad la tendrán en el rango de 2pm a 6pm \\n \" )\n",
        "personas=[('Pedro',33),('Ana',3),('Juan',13),('Carla',45)]\n",
        "perma=list(filter(lambda may: may[1]>=18,personas ))\n",
        "perma\n",
        "print(f'{perma} tendrán la cita a las 8am y 10am respectivamente')\n",
        "\n",
        "perme=list(filter(lambda men: men[1]<18,personas ))\n",
        "perme\n",
        "print(f'{perme} tendrán la cita a las 2pm y 4pm respectivamente')"
      ],
      "metadata": {
        "colab": {
          "base_uri": "https://localhost:8080/"
        },
        "id": "JGiW_GgEObCs",
        "outputId": "c0963c5b-0188-47f3-d82a-a078e5ceb58a"
      },
      "execution_count": 84,
      "outputs": [
        {
          "output_type": "stream",
          "name": "stdout",
          "text": [
            "¡Hola! Soy Lucía del sistema de asignación de turnos para pasaporte de la Gobernación \n",
            " Solo las personas mayores de edad tendrán su cita mañana en el rango de 6am a 12 pm \n",
            " y los menores de edad la tendrán en el rango de 2pm a 6pm \n",
            " \n",
            "[('Pedro', 33), ('Carla', 45)] tendrán la cita a las 8am y 10am respectivamente\n",
            "[('Ana', 3), ('Juan', 13)] tendrán la cita a las 2pm y 4pm respectivamente\n"
          ]
        }
      ]
    }
  ]
}