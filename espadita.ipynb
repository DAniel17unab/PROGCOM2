{
  "nbformat": 4,
  "nbformat_minor": 0,
  "metadata": {
    "colab": {
      "provenance": []
    },
    "kernelspec": {
      "name": "python3",
      "display_name": "Python 3"
    },
    "language_info": {
      "name": "python"
    }
  },
  "cells": [
    {
      "cell_type": "code",
      "execution_count": null,
      "metadata": {
        "id": "WMENNjStDcQ5"
      },
      "outputs": [],
      "source": [
        "class Espadas():\n",
        "  nombre=\"soy una espadita\"\n",
        "  daño=\"causo un daño deeee\"\n",
        "  def __init__(self,nombre,daño):\n",
        "    self.nombre=nombre\n",
        "    self.daño=daño\n",
        "\n",
        "  def __repr__(self):\n",
        "    return f\"espada de:{self.nombre}, y causa:{self.daño} de daño \"\n"
      ]
    },
    {
      "cell_type": "code",
      "source": [
        "class Espada_elemnetal(Espadas):\n",
        "  def masatributos(self,elemento,tamaño,durabilidad,color,maleabilidad,filosidad,capacidaddedaño,quenopuedematar):\n",
        "    self.elemento=elemento\n",
        "    self.tamaño=tamaño\n",
        "    self.durabilidad=durabilidad\n",
        "    self.color=color\n",
        "    self.maleabiliad=maleabilidad"
      ],
      "metadata": {
        "id": "-w-236mnHrpn"
      },
      "execution_count": null,
      "outputs": []
    },
    {
      "cell_type": "code",
      "source": [
        "espada1=Espada_elemnetal(\" espantajopo\",1000)"
      ],
      "metadata": {
        "id": "A-YUG6N7JBP3"
      },
      "execution_count": null,
      "outputs": []
    },
    {
      "cell_type": "code",
      "source": [
        "print(espada1)"
      ],
      "metadata": {
        "colab": {
          "base_uri": "https://localhost:8080/"
        },
        "id": "gMU9iKUYJdhg",
        "outputId": "e2343d54-343c-4cc9-ccc1-9931e450607a"
      },
      "execution_count": null,
      "outputs": [
        {
          "output_type": "stream",
          "name": "stdout",
          "text": [
            "espada de: espantajopo, y causa:1000 de daño \n"
          ]
        }
      ]
    },
    {
      "cell_type": "code",
      "source": [
        "espada1.masatributos(\"diamante con naturaleza \",25 ,100,\"no definido\",\"333%\",\"superfiloso\",333333,\"chupascabras\")"
      ],
      "metadata": {
        "id": "61yGhFQoJude"
      },
      "execution_count": null,
      "outputs": []
    },
    {
      "cell_type": "code",
      "source": [
        "espada1.__dict__"
      ],
      "metadata": {
        "colab": {
          "base_uri": "https://localhost:8080/"
        },
        "id": "PzT8O27CJ9ef",
        "outputId": "d6943808-3cde-4bb8-9507-3b985d5475f8"
      },
      "execution_count": null,
      "outputs": [
        {
          "output_type": "execute_result",
          "data": {
            "text/plain": [
              "{'nombre': ' espantajopo',\n",
              " 'daño': 1000,\n",
              " 'elemento': 'diamante con naturaleza ',\n",
              " 'tamaño': 25,\n",
              " 'durabilidad': 100,\n",
              " 'color': 'no definido',\n",
              " 'maleabiliad': '333%'}"
            ]
          },
          "metadata": {},
          "execution_count": 36
        }
      ]
    },
    {
      "cell_type": "code",
      "source": [
        "class Humanoss():\n",
        "\n",
        "  def __init__(self,nombre,edad,cuerpo,piernas,brazos,ojos,cabello,nariz,color,piel,uñass):\n",
        "    self.nombre=nombre\n",
        "    self.edad=edad\n",
        "    self.cuerpo=cuerpo\n",
        "    self.piernas=piernas\n",
        "    self.brazos=brazos\n",
        "    self.ojos=ojos\n",
        "    self.cabello=cabello\n",
        "    self.nariz=nariz\n",
        "    self.color=color\n",
        "    self.piel=piel\n",
        "    self.uñass=uñass\n",
        "\n",
        "\n",
        "  def trabajar(self,trabajito,verpelis,rumbear,bañarse,comer,programar,cepillarse,coger,remar):\n",
        "    self.trabajito=trabajito\n",
        "    self.verpelis=verpelis\n",
        "    self.rumbear=rumbear\n",
        "    self.bañarse=bañarse\n",
        "    self.comer=comer\n",
        "    self.programar=programar\n",
        "    self.cepillarse=cepillarse\n",
        "    self.coger=coger\n",
        "    self.remar=remar\n",
        "\n",
        "\n",
        "  def caminar(self,aceleracion,velocidad):\n",
        "    if velocidad>0.5 and velocidad<1:\n",
        "      return f\"{self.nombre} esta gateando\"\n",
        "    elif velocidad>2 and velocidad <5:\n",
        "      return f\"{self.nombre} esta caminando\"\n",
        "    elif velocidad >5 and velocidad<7:\n",
        "      return f\"{self.nombre} esta trotando\"\n",
        "    elif velocidad >=7 and velocidad<10:\n",
        "      return f\"{self.nombre} esta corriendo\"\n",
        "    elif velocidad >=1 and velocidad<2:\n",
        "      return f\"{self.nombre} esta cojiendo\"\n",
        "    else:\n",
        "      return f\"{self.nombre} esta volando\"\n",
        "    \n",
        "\n",
        "    \n",
        "\n"
      ],
      "metadata": {
        "id": "ZwU2ETs6NMHj"
      },
      "execution_count": null,
      "outputs": []
    },
    {
      "cell_type": "code",
      "source": [],
      "metadata": {
        "id": "XGe5yWT1PTIA"
      },
      "execution_count": null,
      "outputs": []
    }
  ]
}